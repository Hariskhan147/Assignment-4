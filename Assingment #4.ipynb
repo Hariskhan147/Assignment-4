{
 "cells": [
  {
   "cell_type": "code",
   "execution_count": 1,
   "id": "ae081f63",
   "metadata": {},
   "outputs": [
    {
     "name": "stdout",
     "output_type": "stream",
     "text": [
      "Enter the number to perform the operations\n",
      "1:ADD\n",
      "2:SUBTRACT\n",
      "3:MULTIPLY\n",
      "4:DIVIDE\n",
      "5:power\n",
      "5\n",
      "Enter the first number : 5\n",
      "Enter the second number : 5\n",
      "The total sum is 3125\n"
     ]
    }
   ],
   "source": [
    "print (\"Enter the number to perform the operations\")\n",
    "print(\"1:ADD\")\n",
    "print(\"2:SUBTRACT\")\n",
    "print(\"3:MULTIPLY\")\n",
    "print(\"4:DIVIDE\")\n",
    "print(\"5:power\")\n",
    "\n",
    "operations = input()\n",
    "\n",
    "if operations == \"1\":\n",
    "    num1 = input(\"Enter the first number : \")\n",
    "    num2 = input(\"Enter the second number : \")\n",
    "    print(\"The total sum is \" + str(int(num1) + int(num2)))\n",
    "\n",
    "elif operations == \"2\" :\n",
    "    num1 = input(\"Enter the first number : \")\n",
    "    num2 = input(\"Enter the second number : \")\n",
    "    print(\"The total sum is \" + str(int(num1) - int(num2)))\n",
    "    \n",
    "elif operations == \"3\" :\n",
    "    num1 = input(\"Enter the first number : \")\n",
    "    num2 = input(\"Enter the second number : \")\n",
    "    print(\"The total sum is \" + str(int(num1) * int(num2)))\n",
    "    \n",
    "elif operations == \"4\" :\n",
    "    num1 = input(\"Enter the first number : \")\n",
    "    num2 = input(\"Enter the second number : \")\n",
    "    print(\"The total sum is \" + str(int(num1) / int(num2)))\n",
    "    \n",
    "elif operations == \"5\" :\n",
    "    num1 = input(\"Enter the first number : \")\n",
    "    num2 = input(\"Enter the second number : \")\n",
    "    print(\"The total sum is \" + str(int(num1) ** int(num2)))\n",
    "    \n",
    "else:\n",
    "    print (\"Invalid operation\")\n",
    "    \n",
    "\n",
    "    \n",
    "\n",
    "\n",
    "    "
   ]
  },
  {
   "cell_type": "code",
   "execution_count": 4,
   "id": "2275598c",
   "metadata": {},
   "outputs": [
    {
     "name": "stdout",
     "output_type": "stream",
     "text": [
      "4\n",
      "6\n"
     ]
    }
   ],
   "source": [
    "list = [\"abc\", \"def\", 4, \"ghi\",6] \n",
    "for b in list: \n",
    "    if type(b) == int: \n",
    "        print(b)"
   ]
  },
  {
   "cell_type": "code",
   "execution_count": 5,
   "id": "098d8329",
   "metadata": {},
   "outputs": [
    {
     "name": "stdout",
     "output_type": "stream",
     "text": [
      "{0: 20, 1: 30}\n",
      "{0: 20, 1: 30, 2: 40}\n"
     ]
    }
   ],
   "source": [
    "f = {0:20, 1:30}\n",
    "print(f)\n",
    "f.update({2:40})\n",
    "print(f)"
   ]
  },
  {
   "cell_type": "code",
   "execution_count": 8,
   "id": "8e60aceb",
   "metadata": {},
   "outputs": [
    {
     "name": "stdout",
     "output_type": "stream",
     "text": [
      "532\n"
     ]
    }
   ],
   "source": [
    "my_dict = {'data1':200,'data2':85,'data3':247}\n",
    "print(sum(my_dict.values()))"
   ]
  },
  {
   "cell_type": "code",
   "execution_count": 13,
   "id": "fd1ae725",
   "metadata": {},
   "outputs": [
    {
     "name": "stdout",
     "output_type": "stream",
     "text": [
      "2 3 4 5 "
     ]
    }
   ],
   "source": [
    "l=[1,2,3,4,5,2,3,4,7,9,5]\n",
    "l1=[]\n",
    "for i in l:\n",
    "    if i not in l1:\n",
    "        l1.append(i)\n",
    "    else:\n",
    "        print(i,end=' ')"
   ]
  },
  {
   "cell_type": "code",
   "execution_count": 14,
   "id": "7aabd3d8",
   "metadata": {},
   "outputs": [
    {
     "name": "stdout",
     "output_type": "stream",
     "text": [
      "Key is present in the dictionary\n",
      "Key is not present in the dictionary\n"
     ]
    }
   ],
   "source": [
    "d = {1: 10, 2: 20, 3: 30, 4: 40, 5: 50, 6: 60}\n",
    "def is_key_present(x):\n",
    "  if x in d:\n",
    "      print('Key is present in the dictionary')\n",
    "  else:\n",
    "      print('Key is not present in the dictionary')\n",
    "is_key_present(5)\n",
    "is_key_present(9) "
   ]
  }
 ],
 "metadata": {
  "kernelspec": {
   "display_name": "Python 3",
   "language": "python",
   "name": "python3"
  },
  "language_info": {
   "codemirror_mode": {
    "name": "ipython",
    "version": 3
   },
   "file_extension": ".py",
   "mimetype": "text/x-python",
   "name": "python",
   "nbconvert_exporter": "python",
   "pygments_lexer": "ipython3",
   "version": "3.8.8"
  }
 },
 "nbformat": 4,
 "nbformat_minor": 5
}
